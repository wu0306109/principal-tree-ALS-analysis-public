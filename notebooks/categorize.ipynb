{
 "cells": [
  {
   "cell_type": "code",
   "execution_count": null,
   "metadata": {},
   "outputs": [],
   "source": [
    "import textwrap\n",
    "from itertools import combinations, pairwise\n",
    "from math import dist, log2\n",
    "\n",
    "import joblib\n",
    "import matplotlib.pyplot as plt\n",
    "import networkx as nx\n",
    "import pandas as pd\n",
    "import seaborn as sns\n",
    "from multiprocess import Pool\n",
    "\n",
    "from utils import locate_on_2D_space"
   ]
  },
  {
   "cell_type": "code",
   "execution_count": null,
   "metadata": {},
   "outputs": [],
   "source": []
  },
  {
   "cell_type": "code",
   "execution_count": null,
   "metadata": {},
   "outputs": [],
   "source": [
    "tree = joblib.load('caches/tree.joblib')\n",
    "layout = joblib.load('caches/layout.joblib')\n",
    "\n",
    "terminals = (node for node in tree.nodes if tree.out_degree(node) == 0)\n",
    "trajectories = [\n",
    "    nx.shortest_path(tree, 0, terminal) for terminal in terminals\n",
    "]\n",
    "trajectories"
   ]
  },
  {
   "cell_type": "code",
   "execution_count": null,
   "metadata": {},
   "outputs": [],
   "source": [
    "def nearest_node(vector, tree):\n",
    "    \"\"\"Calculate the nearest node of the tree for the given vector\"\"\"\n",
    "    distances = {\n",
    "        index: dist(position, vector)\n",
    "        for index, position in tree.nodes.data('position')\n",
    "    }\n",
    "    return min(distances, key=distances.get)"
   ]
  },
  {
   "cell_type": "code",
   "execution_count": null,
   "metadata": {},
   "outputs": [],
   "source": [
    "vectors = pd.read_pickle('caches/vectors.pkl')\n",
    "vector_nodes = vectors.apply(nearest_node, tree=tree, axis='columns')\n",
    "vector_nodes"
   ]
  },
  {
   "cell_type": "code",
   "execution_count": null,
   "metadata": {},
   "outputs": [],
   "source": [
    "def assign_group(last, trajectories):\n",
    "    \"\"\"Assign group to the patient based on the last node.\"\"\"\n",
    "    matched_groups = set()\n",
    "    for index, trajectory in enumerate(trajectories):\n",
    "        if last in trajectory:\n",
    "            matched_groups.add(index)\n",
    "\n",
    "    if len(matched_groups) == 0:\n",
    "        raise ValueError('no group found')\n",
    "\n",
    "    if len(matched_groups) == 1:\n",
    "        return matched_groups.pop()\n",
    "    else:\n",
    "        # ambiguous group\n",
    "        return -1"
   ]
  },
  {
   "cell_type": "code",
   "execution_count": null,
   "metadata": {},
   "outputs": [],
   "source": [
    "last_nodes = vector_nodes.sort_index().groupby('pid').last()\n",
    "groups = last_nodes.apply(assign_group, trajectories=trajectories)\n",
    "groups"
   ]
  },
  {
   "cell_type": "code",
   "execution_count": null,
   "metadata": {},
   "outputs": [],
   "source": [
    "def to_edge_text(row):\n",
    "    source = row['source']\n",
    "    target = row['target']\n",
    "    return f'{source:2} -> {target:2}'\n",
    "\n",
    "\n",
    "def to_diseases_text(diseases):\n",
    "    # print(type(diseases))\n",
    "    return ', '.join(diseases)\n",
    "\n",
    "\n",
    "# calulate number of patients in each node\n",
    "for last in last_nodes:\n",
    "    for edge in pairwise(nx.shortest_path(tree, 0, last)):\n",
    "        tree.edges[edge]['n_patients'] = (\n",
    "            tree.edges[edge].get('n_patients', 0) + 1\n",
    "        )\n",
    "\n",
    "data = pd.DataFrame(\n",
    "    tree.edges.data(),\n",
    "    columns=['source', 'target', 'data']\n",
    ")\n",
    "data = pd.DataFrame(\n",
    "    data['data'].to_list(),\n",
    "    index=data.apply(to_edge_text, axis='columns')\n",
    ")\n",
    "for column in ['increased', 'associated', 'unique']:\n",
    "    data[column] = data[column].apply(to_diseases_text)\n",
    "\n",
    "data.to_csv('tables/edge-data.csv')\n",
    "data"
   ]
  },
  {
   "cell_type": "code",
   "execution_count": null,
   "metadata": {},
   "outputs": [],
   "source": []
  },
  {
   "cell_type": "code",
   "execution_count": null,
   "metadata": {},
   "outputs": [],
   "source": [
    "with Pool() as pool:\n",
    "\n",
    "    def _locate_on_2D_space(x):\n",
    "        # generate a temporary function for multiprocessing\n",
    "        return locate_on_2D_space(x, tree, layout, scaler=5e-4)\n",
    "\n",
    "    points = pool.map(_locate_on_2D_space, vectors.values)\n",
    "\n",
    "points = pd.DataFrame(points, columns=['x', 'y'], index=vectors.index)\n",
    "points"
   ]
  },
  {
   "cell_type": "code",
   "execution_count": null,
   "metadata": {},
   "outputs": [],
   "source": [
    "def wrap_text(text, shorten_width=5*4, wrap_width=5*2+1):\n",
    "    \"\"\"Wrap text into multiple lines.\"\"\"\n",
    "    shorten = textwrap.shorten(text, width=shorten_width)\n",
    "    return textwrap.fill(shorten, width=wrap_width)"
   ]
  },
  {
   "cell_type": "code",
   "execution_count": null,
   "metadata": {},
   "outputs": [],
   "source": [
    "plt.figure(figsize=(6.4*2.5, 4.8*2.5))\n",
    "width = [\n",
    "    log2(value['n_patients']+1)*2\n",
    "    for value in tree.edges.values()\n",
    "]\n",
    "nx.draw_networkx(\n",
    "    tree, layout, edge_color='grey', width=width, alpha=0.8,\n",
    ")\n",
    "\n",
    "sns.scatterplot(\n",
    "    points.groupby('pid').sample(frac=0.2, random_state=0),\n",
    "    x='x', y='y', hue='pid', s=50, alpha=0.5, legend=False,\n",
    ")\n",
    "\n",
    "edge_labels = {\n",
    "    edge: wrap_text(', '.join(values['unique']))\n",
    "    for edge, values in tree.edges.items()\n",
    "}\n",
    "# edge_labels[(0, 1)] = '[...]'\n",
    "nx.draw_networkx_edge_labels(\n",
    "    tree, layout, edge_labels=edge_labels, rotate=False,\n",
    "    font_size=6, clip_on=True,\n",
    ")\n",
    "\n",
    "plt.savefig('figures/tree-diseases.png', dpi=300)"
   ]
  },
  {
   "cell_type": "code",
   "execution_count": null,
   "metadata": {},
   "outputs": [],
   "source": []
  },
  {
   "cell_type": "code",
   "execution_count": null,
   "metadata": {},
   "outputs": [],
   "source": [
    "def connecting_subgraph(tree, nodes):\n",
    "    \"\"\"Return subgraph of tree connecting the given nodes.\"\"\"\n",
    "    graph = tree.to_undirected()\n",
    "    shortest_paths = dict(nx.all_pairs_shortest_path(graph))\n",
    "\n",
    "    # nodes of edges to connect the given nodes\n",
    "    connected_nodes = set()\n",
    "    for source, target in combinations(nodes, 2):\n",
    "        path = shortest_paths.get(source, {}).get(target)\n",
    "        connected_nodes.update(path)\n",
    "\n",
    "    return tree.subgraph(connected_nodes)"
   ]
  },
  {
   "cell_type": "code",
   "execution_count": null,
   "metadata": {},
   "outputs": [],
   "source": [
    "subtrees = {}\n",
    "for index, trajectory in enumerate(trajectories):\n",
    "    subtree = tree.subgraph(trajectory)\n",
    "    subtrees[index] = subtree\n",
    "\n",
    "undefined_pids = groups[groups == -1].index\n",
    "undefined_nodes = vector_nodes[\n",
    "    vector_nodes.index.get_level_values('pid').isin(undefined_pids)\n",
    "]\n",
    "subtrees[-1] = connecting_subgraph(tree, undefined_nodes)"
   ]
  },
  {
   "cell_type": "code",
   "execution_count": null,
   "metadata": {},
   "outputs": [],
   "source": [
    "als = '335'\n",
    "\n",
    "records = pd.read_pickle('caches/records.pkl')\n",
    "als_records = records[records['disease'] == als].copy()\n",
    "als_records.sort_values(['pid', 'date'], inplace=True)\n",
    "als_index = als_records.set_index(['pid', 'date']).index\n",
    "als_points = vectors[vectors.index.isin(als_index)].apply(\n",
    "    locate_on_2D_space, tree=tree, layout=layout, axis='columns',\n",
    ")\n",
    "als_points = pd.DataFrame(\n",
    "    list(als_points.values),\n",
    "    index=als_points.index,\n",
    "    columns=['x', 'y'],\n",
    ")"
   ]
  },
  {
   "cell_type": "code",
   "execution_count": null,
   "metadata": {},
   "outputs": [],
   "source": [
    "min_support = 3\n",
    "\n",
    "counts = groups.value_counts()\n",
    "counts = counts[counts >= min_support]\n",
    "\n",
    "n_columns = 2\n",
    "n_rows = (len(counts)+1) // n_columns\n",
    "plt.figure(figsize=(6.4*n_columns, 4.8*n_rows))\n",
    "for i, (group, count) in enumerate(counts.items()):\n",
    "    subtree = subtrees[group]\n",
    "\n",
    "    plt.subplot(n_rows, 2, i+1)\n",
    "\n",
    "    if group == -1:\n",
    "        label = f'Uncategorized Group ({count} patients)'\n",
    "    else:\n",
    "        label = f'Trajectory {group} ({count} patients)'\n",
    "    plt.title(label)\n",
    "\n",
    "    width = [\n",
    "        log2(value['n_patients']+1)\n",
    "        for value in subtree.edges.values()\n",
    "    ]\n",
    "    nx.draw_networkx(\n",
    "        subtree, layout, width=width, edge_color='grey', alpha=0.8,\n",
    "    )\n",
    "\n",
    "    edge_labels = {\n",
    "        edge: wrap_text(', '.join(values['associated']))\n",
    "        for edge, values in subtree.edges.items()\n",
    "    }\n",
    "    nx.draw_networkx_edge_labels(\n",
    "        subtree, layout, edge_labels=edge_labels, rotate=False,\n",
    "        font_size=10, clip_on=True,\n",
    "    )\n",
    "\n",
    "    sub_als_points = als_points[\n",
    "        als_points.index.get_level_values('pid').isin(\n",
    "            groups[groups == group].index\n",
    "        )]\n",
    "    first_als_points = sub_als_points.groupby('pid').first()\n",
    "    plt.scatter(\n",
    "        first_als_points['x'], first_als_points['y'],\n",
    "        s=100, c='red', alpha=0.5, label='first ALS'\n",
    "    )\n",
    "\n",
    "    plt.legend(loc='lower left')\n",
    "\n",
    "plt.savefig('figures/trajectories.png', dpi=300)"
   ]
  },
  {
   "cell_type": "code",
   "execution_count": null,
   "metadata": {},
   "outputs": [],
   "source": []
  }
 ],
 "metadata": {
  "kernelspec": {
   "display_name": "Python 3",
   "language": "python",
   "name": "python3"
  },
  "language_info": {
   "codemirror_mode": {
    "name": "ipython",
    "version": 3
   },
   "file_extension": ".py",
   "mimetype": "text/x-python",
   "name": "python",
   "nbconvert_exporter": "python",
   "pygments_lexer": "ipython3",
   "version": "3.10.10"
  },
  "orig_nbformat": 4
 },
 "nbformat": 4,
 "nbformat_minor": 2
}
