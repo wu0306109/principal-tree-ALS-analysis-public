{
 "cells": [
  {
   "cell_type": "code",
   "execution_count": null,
   "metadata": {},
   "outputs": [],
   "source": [
    "from itertools import pairwise\n",
    "\n",
    "import joblib\n",
    "import networkx as nx\n",
    "import pandas as pd\n",
    "from icd9cms.icd9 import search\n",
    "from scipy import stats"
   ]
  },
  {
   "cell_type": "code",
   "execution_count": null,
   "metadata": {},
   "outputs": [],
   "source": []
  },
  {
   "cell_type": "code",
   "execution_count": null,
   "metadata": {},
   "outputs": [],
   "source": [
    "def contain(contrainer, target):\n",
    "    \"\"\"Check if target is contained in the contrainer.\"\"\"\n",
    "    return target in contrainer"
   ]
  },
  {
   "cell_type": "code",
   "execution_count": null,
   "metadata": {},
   "outputs": [],
   "source": [
    "als_code = '335'\n",
    "confidence_level = 0.95\n",
    "\n",
    "patients = pd.read_pickle('caches/patients.pkl')\n",
    "records = pd.read_pickle('caches/records.pkl')\n",
    "\n",
    "comorbidities = records.groupby('pid')['disease'].apply(set)\n",
    "odds_ratios = {}\n",
    "for disease in records['disease'].unique():\n",
    "    exposed = comorbidities.apply(contain, target=disease)\n",
    "    cases = comorbidities.apply(contain, target=als_code)\n",
    "    table = pd.crosstab(exposed, cases)\n",
    "\n",
    "    odds_ratio = stats.contingency.odds_ratio(table)\n",
    "    interval = odds_ratio.confidence_interval(confidence_level)\n",
    "    odds_ratios[disease] = {\n",
    "        'odds_ratio': odds_ratio.statistic,\n",
    "        'low': interval.low,\n",
    "        'high': interval.high,\n",
    "    }\n",
    "\n",
    "odds_ratios = pd.DataFrame.from_dict(odds_ratios, orient='index')\n",
    "odds_ratios"
   ]
  },
  {
   "cell_type": "code",
   "execution_count": null,
   "metadata": {},
   "outputs": [],
   "source": [
    "def desc(code):\n",
    "    \"\"\"Get the description of the code.\"\"\"\n",
    "    return search(code).short_desc\n",
    "\n",
    "\n",
    "def parent(code):\n",
    "    \"\"\"Get the parent code of the code.\"\"\"\n",
    "    return search(code).parent.short_desc"
   ]
  },
  {
   "cell_type": "code",
   "execution_count": null,
   "metadata": {},
   "outputs": [],
   "source": [
    "min_odds_ratio = 2\n",
    "min_odds_ratio_low = 1\n",
    "\n",
    "associated_diseases = odds_ratios[\n",
    "    (odds_ratios['odds_ratio'] >= min_odds_ratio)\n",
    "    & (odds_ratios['low'] >= min_odds_ratio_low)\n",
    "].index\n",
    "odds_ratios['class'] = list(map(parent, odds_ratios.index))\n",
    "odds_ratios['name'] = list(map(desc, odds_ratios.index))\n",
    "display(associated_diseases)\n",
    "\n",
    "odds_ratios = odds_ratios.loc[associated_diseases]\n",
    "odds_ratios.sort_values('odds_ratio', ascending=False, inplace=True)\n",
    "\n",
    "odds_ratios['confidence_interval'] = odds_ratios.apply(\n",
    "    lambda row: f'{row[\"low\"]:.2f}-{row[\"high\"]:.2f}', axis=1)\n",
    "odds_ratios.to_csv('tables/odds-ratios.csv')"
   ]
  },
  {
   "cell_type": "code",
   "execution_count": null,
   "metadata": {},
   "outputs": [],
   "source": []
  },
  {
   "cell_type": "code",
   "execution_count": null,
   "metadata": {},
   "outputs": [],
   "source": [
    "min_difference = 1\n",
    "\n",
    "tree = joblib.load('caches/tree.joblib')\n",
    "transformer = joblib.load('caches/transformer.joblib')\n",
    "\n",
    "for source, target in tree.edges:\n",
    "    positions = [\n",
    "        tree.nodes[source]['position'],\n",
    "        tree.nodes[target]['position'],\n",
    "    ]\n",
    "    cumulations = pd.DataFrame(\n",
    "        transformer.inverse_transform(positions),\n",
    "        columns=transformer.feature_names_in_,\n",
    "        index=[source, target],\n",
    "    )\n",
    "    differences = (cumulations.loc[target]-cumulations.loc[source])\n",
    "\n",
    "    increased = set(differences[differences >= min_difference].index)\n",
    "    associated = increased.intersection(associated_diseases)\n",
    "\n",
    "    tree.edges[source, target]['increased'] = increased\n",
    "    tree.edges[source, target]['associated'] = associated"
   ]
  },
  {
   "cell_type": "code",
   "execution_count": null,
   "metadata": {},
   "outputs": [],
   "source": [
    "def mark_branch_only_diseases(tree, current, root=0):\n",
    "    \"\"\"Recursively mark the branch-only diseases for each edge.\"\"\"\n",
    "    for successor in tree.successors(current):\n",
    "        unique = tree.edges[current, successor]['associated'].copy()\n",
    "\n",
    "        # remove the diseases that are inherited from the ancestors\n",
    "        for source, target in pairwise(\n",
    "                nx.shortest_path(tree, root, current)):\n",
    "            unique -= tree.edges[source, target]['associated']\n",
    "\n",
    "        # remove the diseases that are shared with other successors\n",
    "        for other in tree.successors(current):\n",
    "            if other == successor:  # skip itself\n",
    "                continue\n",
    "\n",
    "            unique -= tree.edges[current, other]['associated']\n",
    "\n",
    "        tree.edges[current, successor]['unique'] = unique\n",
    "        mark_branch_only_diseases(tree, successor, root)"
   ]
  },
  {
   "cell_type": "code",
   "execution_count": null,
   "metadata": {},
   "outputs": [],
   "source": [
    "mark_branch_only_diseases(tree, 0)"
   ]
  },
  {
   "cell_type": "code",
   "execution_count": null,
   "metadata": {},
   "outputs": [],
   "source": [
    "joblib.dump(tree, 'caches/tree.joblib')"
   ]
  },
  {
   "cell_type": "code",
   "execution_count": null,
   "metadata": {},
   "outputs": [],
   "source": []
  }
 ],
 "metadata": {
  "kernelspec": {
   "display_name": "Python 3",
   "language": "python",
   "name": "python3"
  },
  "language_info": {
   "codemirror_mode": {
    "name": "ipython",
    "version": 3
   },
   "file_extension": ".py",
   "mimetype": "text/x-python",
   "name": "python",
   "nbconvert_exporter": "python",
   "pygments_lexer": "ipython3",
   "version": "3.10.10"
  },
  "orig_nbformat": 4
 },
 "nbformat": 4,
 "nbformat_minor": 2
}
