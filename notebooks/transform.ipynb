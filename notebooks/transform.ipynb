{
 "cells": [
  {
   "cell_type": "code",
   "execution_count": null,
   "metadata": {},
   "outputs": [],
   "source": [
    "import json\n",
    "import warnings\n",
    "from itertools import chain\n",
    "\n",
    "import joblib\n",
    "import matplotlib.pyplot as plt\n",
    "import pandas as pd\n",
    "import seaborn as sns\n",
    "from sklearn.decomposition import PCA\n",
    "from sklearn.pipeline import Pipeline\n",
    "from sklearn.preprocessing import StandardScaler"
   ]
  },
  {
   "cell_type": "code",
   "execution_count": null,
   "metadata": {},
   "outputs": [],
   "source": []
  },
  {
   "cell_type": "code",
   "execution_count": null,
   "metadata": {},
   "outputs": [],
   "source": [
    "def parse(data):\n",
    "    \"\"\"Parse patient data from raw JSON data\"\"\"\n",
    "    patients = []\n",
    "    records = []\n",
    "\n",
    "    for pid, data_patient in data.items():\n",
    "        patients.append({\n",
    "            'pid': pid,\n",
    "            'birth': data_patient['BirthDay'],\n",
    "            'death': data_patient['DeathDay'],\n",
    "            'sex': data_patient['sex'],\n",
    "        })\n",
    "\n",
    "        for disease, date_date in data_patient['ICD'].items():\n",
    "            # merge dates of different types of records\n",
    "            for date in chain.from_iterable(date_date.values()):\n",
    "                records.append({\n",
    "                    'pid': pid,\n",
    "                    'date': date,\n",
    "                    'disease': disease,\n",
    "                })\n",
    "\n",
    "    patients = pd.DataFrame(patients).set_index('pid')\n",
    "    records = pd.DataFrame(records)\n",
    "    return patients, records"
   ]
  },
  {
   "cell_type": "code",
   "execution_count": null,
   "metadata": {},
   "outputs": [],
   "source": [
    "# parse the data of ALS (335.20) patients\n",
    "with open('data/patients-icd9cm33520.json') as stream:\n",
    "    data = json.load(stream)\n",
    "    patients, records = parse(data)\n",
    "    patients['ALS'] = True\n",
    "\n",
    "# parse the data of non-ALS patients\n",
    "with open('data/patients-icd9cm335-without.json') as stream:\n",
    "    data = json.load(stream)\n",
    "    patients_without, records_without = parse(data)\n",
    "    patients_without['ALS'] = False"
   ]
  },
  {
   "cell_type": "code",
   "execution_count": null,
   "metadata": {},
   "outputs": [],
   "source": [
    "patients = pd.concat([patients, patients_without])\n",
    "patients['birth'] = pd.to_datetime(patients['birth'], format='%Y%m')\n",
    "patients['death'] = pd.to_datetime(patients['death'], format='%Y%m%d')\n",
    "patients['sex'].replace({'M': 'male', 'F': 'female'}, inplace=True)"
   ]
  },
  {
   "cell_type": "code",
   "execution_count": null,
   "metadata": {},
   "outputs": [],
   "source": [
    "records = pd.concat([records, records_without])\n",
    "records['date'] = pd.to_datetime(records['date'], format='%Y%m%d')\n",
    "# make sure all the ICD codes are 3-digits long\n",
    "records['disease'] = records['disease'].str.pad(3, fillchar='0')"
   ]
  },
  {
   "cell_type": "code",
   "execution_count": null,
   "metadata": {},
   "outputs": [],
   "source": []
  },
  {
   "cell_type": "code",
   "execution_count": null,
   "metadata": {},
   "outputs": [],
   "source": [
    "def age(birth, date=pd.Timestamp(year=2013, month=12, day=31)):\n",
    "    \"\"\"Calculate the age of a patient\"\"\"\n",
    "    return date.year - birth.year - (\n",
    "        (date.month, date.day) < (birth.month, birth.day))\n",
    "\n",
    "\n",
    "def show_histogram(patients):\n",
    "    \"\"\"Show the histogram of sex and gender for patients\"\"\"\n",
    "    data = patients.copy()\n",
    "    data['ALS'] = data['ALS'].map({True: 'ALS', False: 'Non-ALS'})\n",
    "    data['Sex'] = data['sex'].str.capitalize()\n",
    "    data['Age'] = data['birth'].apply(age)\n",
    "\n",
    "    plt.subplot(2, 1, 1)\n",
    "    plt.title('Histogram of Gender (Sex)')\n",
    "    sns.histplot(data, x='Sex', hue='ALS', legend=True)\n",
    "    plt.xlabel(None)\n",
    "\n",
    "    plt.subplot(2, 1, 2)\n",
    "    plt.title('Histogram of Age')\n",
    "    sns.histplot(data, x='Age', hue='ALS', legend=True)\n",
    "    plt.xlabel(None)"
   ]
  },
  {
   "cell_type": "code",
   "execution_count": null,
   "metadata": {},
   "outputs": [],
   "source": [
    "show_histogram(patients)"
   ]
  },
  {
   "cell_type": "code",
   "execution_count": null,
   "metadata": {},
   "outputs": [],
   "source": [
    "# number of control case for each ALS patient\n",
    "control_ratio = 4\n",
    "# the threshold of birth difference to trigger a warning\n",
    "warning_delta = pd.Timedelta(days=1000)\n",
    "\n",
    "# for each ALS patient, select a control case greedily,\n",
    "# which have the same gender and closest birth date\n",
    "controls = []\n",
    "is_als = patients['ALS']\n",
    "candidates = patients[~is_als].copy()\n",
    "for index, patient in patients[is_als].iterrows():\n",
    "    sub_candidates = candidates[candidates['sex'] == patient['sex']].copy()\n",
    "    sub_candidates['delta'] = (\n",
    "        sub_candidates['birth'] - patient['birth']\n",
    "    ).abs()\n",
    "    sub_conrols = sub_candidates.sort_values('delta').head(control_ratio)\n",
    "\n",
    "    for delta in sub_conrols['delta']:\n",
    "        if delta > warning_delta:\n",
    "            warnings.warn(f'delta is too large ({delta=})')\n",
    "\n",
    "    controls.append(sub_conrols)\n",
    "    candidates.drop(sub_conrols.index, inplace=True)\n",
    "\n",
    "controls = pd.concat(controls)"
   ]
  },
  {
   "cell_type": "code",
   "execution_count": null,
   "metadata": {},
   "outputs": [],
   "source": [
    "patients = pd.concat([patients[is_als], controls])\n",
    "patients.to_pickle('caches/patients.pkl')\n",
    "show_histogram(patients)\n",
    "\n",
    "records = records[records['pid'].isin(patients.index)]\n",
    "records.to_pickle('caches/records.pkl')\n",
    "\n",
    "plt.savefig('figures/patients-histogram.png', dpi=300)"
   ]
  },
  {
   "cell_type": "code",
   "execution_count": null,
   "metadata": {},
   "outputs": [],
   "source": []
  },
  {
   "cell_type": "code",
   "execution_count": null,
   "metadata": {},
   "outputs": [],
   "source": [
    "ALS_patients = patients[patients['ALS']].index\n",
    "ALS_records = records[records['pid'].isin(ALS_patients)]\n",
    "\n",
    "dummies = pd.get_dummies(ALS_records['disease'])\n",
    "\n",
    "# count once per patient per day\n",
    "dummies = dummies.join(ALS_records[['pid', 'date']])\n",
    "dummies = dummies.groupby(['pid', 'date']).any()\n",
    "dummies"
   ]
  },
  {
   "cell_type": "code",
   "execution_count": null,
   "metadata": {},
   "outputs": [],
   "source": [
    "# sort the patients and dates\n",
    "dummies.sort_index(inplace=True)\n",
    "# generate disease cumulative dataset\n",
    "cumulations = dummies.groupby('pid').cumsum()\n",
    "\n",
    "# check if all records are increasing\n",
    "increasing = (\n",
    "    cumulations - cumulations.groupby('pid').shift(1, fill_value=0)\n",
    ") > 0\n",
    "assert increasing.any(axis='columns').all()\n",
    "\n",
    "cumulations.to_pickle('caches/cumulations.pkl')\n",
    "\n",
    "cumulations"
   ]
  },
  {
   "cell_type": "code",
   "execution_count": null,
   "metadata": {},
   "outputs": [],
   "source": []
  },
  {
   "cell_type": "code",
   "execution_count": null,
   "metadata": {},
   "outputs": [],
   "source": [
    "transformer = Pipeline([\n",
    "    ('scaler', StandardScaler()),\n",
    "    ('PCA', PCA()),\n",
    "])\n",
    "transformer"
   ]
  },
  {
   "cell_type": "code",
   "execution_count": null,
   "metadata": {},
   "outputs": [],
   "source": [
    "transformer.fit(cumulations)\n",
    "explained_ratios = pd.Series(transformer['PCA'].explained_variance_ratio_)\n",
    "explained_ratios.index += 1  # number of components starts from 1\n",
    "\n",
    "figure, ax = plt.subplots()\n",
    "# ax.set_title('Elbow Plot for PCA')\n",
    "ax.set_xlabel('Number of Components')\n",
    "ax.set_ylabel('Explained Variance Ratio')\n",
    "p1, = ax.plot(explained_ratios, label='Explained Variance Ratio')\n",
    "ax.grid(axis='x')\n",
    "\n",
    "twin = ax.twinx()\n",
    "twin.set_ylabel('Cumulative Explained Variance Ratio')\n",
    "p2, = twin.plot(\n",
    "    explained_ratios.cumsum(), color='orange', linestyle='--',\n",
    "    label='Cumulative Explained Variance Ratio'\n",
    ")\n",
    "twin.grid(axis='y')\n",
    "\n",
    "plt.legend(handles=[p1, p2], loc='center right')\n",
    "plt.xlim(0, 100)\n",
    "\n",
    "plt.savefig('figures/PCA-elbow.png', dpi=300)"
   ]
  },
  {
   "cell_type": "code",
   "execution_count": null,
   "metadata": {},
   "outputs": [],
   "source": [
    "n_components = 60\n",
    "\n",
    "transformer['PCA'].set_params(n_components=n_components)\n",
    "vectors = transformer.fit_transform(cumulations)\n",
    "vectors = pd.DataFrame(vectors, index=cumulations.index)\n",
    "display(vectors)\n",
    "\n",
    "joblib.dump(transformer, 'caches/transformer.joblib')\n",
    "vectors.to_pickle('caches/vectors.pkl')\n",
    "\n",
    "total = transformer['PCA'].explained_variance_ratio_.sum()\n",
    "print(f'{total=:.2%} ({n_components=})')"
   ]
  },
  {
   "cell_type": "code",
   "execution_count": null,
   "metadata": {},
   "outputs": [],
   "source": []
  }
 ],
 "metadata": {
  "kernelspec": {
   "display_name": "Python 3",
   "language": "python",
   "name": "python3"
  },
  "language_info": {
   "codemirror_mode": {
    "name": "ipython",
    "version": 3
   },
   "file_extension": ".py",
   "mimetype": "text/x-python",
   "name": "python",
   "nbconvert_exporter": "python",
   "pygments_lexer": "ipython3",
   "version": "3.10.10"
  },
  "orig_nbformat": 4
 },
 "nbformat": 4,
 "nbformat_minor": 2
}
