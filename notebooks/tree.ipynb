{
 "cells": [
  {
   "cell_type": "code",
   "execution_count": null,
   "metadata": {},
   "outputs": [],
   "source": [
    "import logging\n",
    "import random\n",
    "import time\n",
    "from collections import defaultdict\n",
    "from itertools import chain, combinations\n",
    "from math import dist\n",
    "\n",
    "import elpigraph\n",
    "import joblib\n",
    "import matplotlib.pyplot as plt\n",
    "import networkx as nx\n",
    "import numpy as np\n",
    "import pandas as pd\n",
    "from tqdm import tqdm"
   ]
  },
  {
   "cell_type": "code",
   "execution_count": null,
   "metadata": {},
   "outputs": [],
   "source": [
    "seed = 1683180350"
   ]
  },
  {
   "cell_type": "code",
   "execution_count": null,
   "metadata": {},
   "outputs": [],
   "source": []
  },
  {
   "cell_type": "code",
   "execution_count": null,
   "metadata": {},
   "outputs": [],
   "source": [
    "logging.basicConfig(\n",
    "    filename='compute_tree.log',\n",
    "    level=logging.INFO,\n",
    ")"
   ]
  },
  {
   "cell_type": "code",
   "execution_count": null,
   "metadata": {},
   "outputs": [],
   "source": [
    "def log_execution(callable, available_types=(str, int, float)):\n",
    "    \"\"\"Log information of a callable object.\"\"\"\n",
    "\n",
    "    def is_available_type(x):\n",
    "        if isinstance(x, tuple):\n",
    "            x = x[1]  # the value of keyword argument\n",
    "        return isinstance(x, available_types)\n",
    "\n",
    "    def wrapper(*args, **kwargs):\n",
    "        start = time.time()\n",
    "        result = callable(*args, **kwargs)\n",
    "        end = time.time()\n",
    "\n",
    "        # filter out non-available types\n",
    "        args = filter(is_available_type, args)\n",
    "        kwargs = filter(is_available_type, kwargs.items())\n",
    "\n",
    "        # convert arguments to string\n",
    "        args = map(str, args)\n",
    "        kwargs = [f'{k}={v}' for k, v in kwargs]\n",
    "\n",
    "        # generate logging message\n",
    "        name = callable.__name__\n",
    "        elapsed = end - start\n",
    "        args = ','.join(chain(args, kwargs))\n",
    "        logging.info(f'{name}({args})={result:.2f}({elapsed:.2f}s)')\n",
    "\n",
    "        return result\n",
    "\n",
    "    return wrapper"
   ]
  },
  {
   "cell_type": "code",
   "execution_count": null,
   "metadata": {},
   "outputs": [],
   "source": []
  },
  {
   "cell_type": "code",
   "execution_count": null,
   "metadata": {},
   "outputs": [],
   "source": [
    "def compute_principle_tree(X, n_nodes):\n",
    "    \"\"\"Compute the principle tree.\"\"\"\n",
    "    random.seed(seed)\n",
    "    return elpigraph.computeElasticPrincipalTree(\n",
    "        X, NumNodes=n_nodes, Lambda=0.05, Mu=0.1,\n",
    "    )[0]\n",
    "\n",
    "\n",
    "@log_execution\n",
    "def tree_energy(X, n_nodes):\n",
    "    \"\"\"Compute the principal tree and get the energy of the tree.\"\"\"\n",
    "    tree = compute_principle_tree(X, n_nodes)\n",
    "    return tree.get('FinalReport').get('ENERGY')"
   ]
  },
  {
   "cell_type": "code",
   "execution_count": null,
   "metadata": {},
   "outputs": [],
   "source": [
    "vectors = pd.read_pickle('caches/vectors.pkl')"
   ]
  },
  {
   "cell_type": "code",
   "execution_count": null,
   "metadata": {},
   "outputs": [],
   "source": [
    "readonly = True\n",
    "max_n_nodes = 100\n",
    "\n",
    "if readonly:\n",
    "    energies = pd.read_csv('tables/energies.csv', index_col='n_nodes')\n",
    "else:\n",
    "    energies = {}\n",
    "    for n in tqdm(range(1, max_n_nodes + 1)):\n",
    "        energies[n] = tree_energy(vectors.values, n)\n",
    "\n",
    "    energies = pd.Series(energies, name='energy')\n",
    "    energies.index.name = 'n_nodes'\n",
    "    energies.to_csv('tables/energies.csv')\n",
    "\n",
    "plt.title('Elbow Plot for Elastic Principal Tree')\n",
    "plt.plot(energies.iloc[:max_n_nodes])\n",
    "plt.xlabel('Number of Nodes')\n",
    "plt.ylabel('Elastic Energy')\n",
    "plt.xticks(range(0, max_n_nodes+1, 25))\n",
    "plt.grid()\n",
    "\n",
    "plt.savefig('figures/tree-elbow.png', dpi=300)"
   ]
  },
  {
   "cell_type": "code",
   "execution_count": null,
   "metadata": {},
   "outputs": [],
   "source": [
    "readonly = True\n",
    "\n",
    "if readonly:\n",
    "    elpigraph_tree = joblib.load('caches/elpigraph_tree.pkl')\n",
    "else:\n",
    "    n_nodes = 25\n",
    "    elpigraph_tree = compute_principle_tree(vectors.values, n_nodes)\n",
    "    joblib.dump(elpigraph_tree, 'caches/elpigraph_tree.pkl')"
   ]
  },
  {
   "cell_type": "code",
   "execution_count": null,
   "metadata": {},
   "outputs": [],
   "source": [
    "# the fraction of data to plot\n",
    "fraction = 0.05\n",
    "\n",
    "plt.title('Elastic Principal Tree Embedding on Data (PCA)')\n",
    "elpigraph.plot.PlotPG(\n",
    "    # random sample of records to reduce memory usage\n",
    "    vectors.groupby('pid').sample(frac=fraction, random_state=seed).values,\n",
    "    PG=elpigraph_tree, Do_PCA=False, show_text=False,\n",
    ")\n",
    "plt.xlabel('Component #1')\n",
    "plt.ylabel('Component #2')\n",
    "plt.xticks([])\n",
    "plt.yticks([])\n",
    "\n",
    "plt.savefig('figures/tree-embed.png', dpi=300)"
   ]
  },
  {
   "cell_type": "code",
   "execution_count": null,
   "metadata": {},
   "outputs": [],
   "source": []
  },
  {
   "cell_type": "code",
   "execution_count": null,
   "metadata": {},
   "outputs": [],
   "source": [
    "node_positions = pd.DataFrame(elpigraph_tree['NodePositions'])\n",
    "edges = pd.DataFrame(\n",
    "    elpigraph_tree['Edges'][0], columns=['source', 'target']\n",
    ")"
   ]
  },
  {
   "cell_type": "code",
   "execution_count": null,
   "metadata": {},
   "outputs": [],
   "source": [
    "transformer = joblib.load('caches/transformer.joblib')\n",
    "\n",
    "# calculate the position without any disease\n",
    "initial = pd.DataFrame(\n",
    "    np.zeros((1, transformer.n_features_in_)),\n",
    "    columns=transformer.feature_names_in_,\n",
    ")\n",
    "initial_position = transformer.transform(initial).squeeze()\n",
    "\n",
    "# distances to the initial position\n",
    "distances = node_positions.apply(\n",
    "    dist, args=(initial_position,), axis='columns')\n",
    "# use rank as the new node indeces\n",
    "ranks = distances.rank().astype(int) - 1\n",
    "edges = edges.applymap(ranks.get)\n",
    "node_positions.index = ranks\n",
    "# the direction is same as the distance increasing from initial position\n",
    "edges = edges.apply(sorted, axis='columns')\n",
    "\n",
    "tree = nx.DiGraph(edges)\n",
    "# mark nodes with their positions\n",
    "for index, row in node_positions.iterrows():\n",
    "    tree.nodes[index]['position'] = row.values\n",
    "\n",
    "joblib.dump(tree, 'caches/tree.joblib')"
   ]
  },
  {
   "cell_type": "code",
   "execution_count": null,
   "metadata": {},
   "outputs": [],
   "source": [
    "# calculate distances between nodes\n",
    "distances = defaultdict(dict)\n",
    "for source, target in combinations(tree.nodes, 2):\n",
    "    distances[source][target] = dist(\n",
    "        tree.nodes[source]['position'], tree.nodes[target]['position']\n",
    "    )\n",
    "layout = nx.kamada_kawai_layout(tree, dist=distances)\n",
    "nx.draw_networkx(tree, layout)\n",
    "plt.savefig('figures/tree.png', dpi=300)\n",
    "\n",
    "joblib.dump(layout, 'caches/layout.joblib')"
   ]
  },
  {
   "cell_type": "code",
   "execution_count": null,
   "metadata": {},
   "outputs": [],
   "source": []
  }
 ],
 "metadata": {
  "kernelspec": {
   "display_name": "Python 3",
   "language": "python",
   "name": "python3"
  },
  "language_info": {
   "codemirror_mode": {
    "name": "ipython",
    "version": 3
   },
   "file_extension": ".py",
   "mimetype": "text/x-python",
   "name": "python",
   "nbconvert_exporter": "python",
   "pygments_lexer": "ipython3",
   "version": "3.10.10"
  },
  "orig_nbformat": 4
 },
 "nbformat": 4,
 "nbformat_minor": 2
}
